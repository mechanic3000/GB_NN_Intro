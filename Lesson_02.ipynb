{
  "nbformat": 4,
  "nbformat_minor": 0,
  "metadata": {
    "colab": {
      "provenance": [],
      "authorship_tag": "ABX9TyML9mo8xNIYjy4//XQNbbhb",
      "include_colab_link": true
    },
    "kernelspec": {
      "name": "python3",
      "display_name": "Python 3"
    },
    "language_info": {
      "name": "python"
    }
  },
  "cells": [
    {
      "cell_type": "markdown",
      "metadata": {
        "id": "view-in-github",
        "colab_type": "text"
      },
      "source": [
        "<a href=\"https://colab.research.google.com/github/mechanic3000/GB_NN_Intro/blob/Lesson_02/Lesson_02.ipynb\" target=\"_parent\"><img src=\"https://colab.research.google.com/assets/colab-badge.svg\" alt=\"Open In Colab\"/></a>"
      ]
    },
    {
      "cell_type": "markdown",
      "source": [
        "## Практическое задание\n",
        "\n",
        "<ol>\n",
        "    <li>Попробуйте обучить, нейронную сеть на Keras(рассмотренную на уроке) на датасете MNIST с другими параметрами. \n",
        "        Опишите в комментарии к уроку - какой результата вы добились от нейросети? Что помогло вам улучшить ее точность?</li>\n",
        "    <li>Поработайте с документацией Keras. Попробуйте найти полезные команды Keras неразобранные на уроке.</li>\n",
        "</ol>"
      ],
      "metadata": {
        "id": "dkoL-M1nodoS"
      }
    },
    {
      "cell_type": "code",
      "source": [
        "# !pip install mnist"
      ],
      "metadata": {
        "colab": {
          "base_uri": "https://localhost:8080/"
        },
        "id": "A3MAkhTbordz",
        "outputId": "36ffb266-cdb2-42da-e554-f3952145e57d"
      },
      "execution_count": 2,
      "outputs": [
        {
          "output_type": "stream",
          "name": "stdout",
          "text": [
            "Looking in indexes: https://pypi.org/simple, https://us-python.pkg.dev/colab-wheels/public/simple/\n",
            "Collecting mnist\n",
            "  Downloading mnist-0.2.2-py2.py3-none-any.whl (3.5 kB)\n",
            "Requirement already satisfied: numpy in /usr/local/lib/python3.7/dist-packages (from mnist) (1.21.6)\n",
            "Installing collected packages: mnist\n",
            "Successfully installed mnist-0.2.2\n"
          ]
        }
      ]
    },
    {
      "cell_type": "code",
      "source": [
        "# The full neural network code!\n",
        "###############################\n",
        "import numpy as np\n",
        "import mnist\n",
        "from keras.models import Sequential\n",
        "from keras.layers import Dense\n",
        "from keras.utils import to_categorical"
      ],
      "metadata": {
        "id": "12r_LWvMoqdU"
      },
      "execution_count": 3,
      "outputs": []
    },
    {
      "cell_type": "code",
      "source": [
        "train_images = mnist.train_images()\n",
        "train_labels = mnist.train_labels()\n",
        "test_images = mnist.test_images()\n",
        "test_labels = mnist.test_labels()"
      ],
      "metadata": {
        "id": "OHTttH_JozMg"
      },
      "execution_count": 19,
      "outputs": []
    },
    {
      "cell_type": "code",
      "source": [
        "# Normalize the images.\n",
        "train_images = (train_images / 255) - 0.5\n",
        "test_images = (test_images / 255) - 0.5\n",
        "\n",
        "# Flatten the images.\n",
        "train_images = train_images.reshape((-1, 784))\n",
        "test_images = test_images.reshape((-1, 784))"
      ],
      "metadata": {
        "id": "yTsW3O-So1gp"
      },
      "execution_count": 28,
      "outputs": []
    },
    {
      "cell_type": "code",
      "source": [
        "def nn_minst(X_train, y_train, X_test, y_test, n_neirons, activation, \n",
        "             optimizer, n_epochs, batch_size, verbose):\n",
        "  # Build the model.\n",
        "  model = Sequential([\n",
        "    Dense(n_neirons, activation=activation, input_shape=(784,)),\n",
        "    Dense(n_neirons, activation=activation),\n",
        "    Dense(10, activation='softmax'),\n",
        "  ])\n",
        "\n",
        "  # Compile the model.\n",
        "  model.compile(\n",
        "    optimizer= optimizer,\n",
        "    loss='categorical_crossentropy',\n",
        "    metrics=['accuracy'],\n",
        "  )\n",
        "\n",
        "  # Train the model.\n",
        "  model.fit(\n",
        "    X_train,\n",
        "    to_categorical(y_train),\n",
        "    epochs=n_epochs,\n",
        "    batch_size=batch_size,\n",
        "    verbose=verbose\n",
        "  )\n",
        "\n",
        "  # Evaluate the model.\n",
        "  evaluate = model.evaluate(\n",
        "    X_test,\n",
        "    to_categorical(y_test),\n",
        "    verbose=0\n",
        "  )[1]\n",
        "\n",
        "  return model, evaluate"
      ],
      "metadata": {
        "id": "EcbI-n3Ro3Ia"
      },
      "execution_count": 34,
      "outputs": []
    },
    {
      "cell_type": "code",
      "source": [
        "n_neirons = [25, 64, 100]\n",
        "\n",
        "result = []\n",
        "\n",
        "for n_neiron in n_neirons:\n",
        "  model, evaluate = nn_minst(train_images, train_labels, test_images, test_labels, \n",
        "                    n_neiron, activation='relu', optimizer='adam', \n",
        "                   n_epochs=5, batch_size=32, verbose=0)\n",
        "  result.append(evaluate)\n",
        "\n",
        "result"
      ],
      "metadata": {
        "colab": {
          "base_uri": "https://localhost:8080/"
        },
        "id": "plA0_YDDpXsd",
        "outputId": "943360af-7d84-43dc-b03d-48ea4564c61a"
      },
      "execution_count": 38,
      "outputs": [
        {
          "output_type": "execute_result",
          "data": {
            "text/plain": [
              "[0.9327999949455261, 0.9657999873161316, 0.9707000255584717]"
            ]
          },
          "metadata": {},
          "execution_count": 38
        }
      ]
    },
    {
      "cell_type": "markdown",
      "source": [
        "**Вывод** : увеличение количества нейронов в слое дало положительный результат"
      ],
      "metadata": {
        "id": "MXlUAV1i0y39"
      }
    },
    {
      "cell_type": "code",
      "source": [
        "n_epoches = [2, 5, 10]\n",
        "\n",
        "result = []\n",
        "\n",
        "for n_epochs in n_epoches:\n",
        "  model, evaluate = nn_minst(train_images, train_labels, test_images, test_labels, \n",
        "                    n_neirons=64, activation='relu', optimizer='adam', \n",
        "                    n_epochs=n_epochs, batch_size=32, verbose=0)\n",
        "  result.append(evaluate)\n",
        "\n",
        "result"
      ],
      "metadata": {
        "colab": {
          "base_uri": "https://localhost:8080/"
        },
        "id": "smp-hMi70xty",
        "outputId": "91d604b0-9df4-4155-ab60-431e250c420f"
      },
      "execution_count": 40,
      "outputs": [
        {
          "output_type": "execute_result",
          "data": {
            "text/plain": [
              "[0.9541000127792358, 0.9627000093460083, 0.9740999937057495]"
            ]
          },
          "metadata": {},
          "execution_count": 40
        }
      ]
    },
    {
      "cell_type": "markdown",
      "source": [
        "**Вывод**: Увеличение количества эпох также дало положительный результат"
      ],
      "metadata": {
        "id": "TDd1SWey3F87"
      }
    },
    {
      "cell_type": "code",
      "source": [
        "batch_sizes = [25, 32, 55, 75, 128]\n",
        "\n",
        "result = []\n",
        "\n",
        "for batch_size in batch_sizes:\n",
        "  model, evaluate = nn_minst(train_images, train_labels, test_images, test_labels, \n",
        "                    n_neirons=64, activation='relu', optimizer='adam', \n",
        "                    n_epochs=5, batch_size=batch_size, verbose=0)\n",
        "  result.append(evaluate)\n",
        "\n",
        "result"
      ],
      "metadata": {
        "colab": {
          "base_uri": "https://localhost:8080/"
        },
        "id": "_uiOeeii3MPd",
        "outputId": "eb5e9828-b887-48dc-c62e-f051d701fe7c"
      },
      "execution_count": 41,
      "outputs": [
        {
          "output_type": "execute_result",
          "data": {
            "text/plain": [
              "[0.9657999873161316,\n",
              " 0.9610999822616577,\n",
              " 0.96670001745224,\n",
              " 0.9646999835968018,\n",
              " 0.9620000123977661]"
            ]
          },
          "metadata": {},
          "execution_count": 41
        }
      ]
    },
    {
      "cell_type": "markdown",
      "source": [
        "**Вывод**: небольшой прирост дало увеличение размера батча до 55, далее наблюдается снижение оценки."
      ],
      "metadata": {
        "id": "vswbCA7C4Db0"
      }
    },
    {
      "cell_type": "code",
      "source": [
        "#запуск с оптимальными параметрами\n",
        "\n",
        "model, evaluate = nn_minst(train_images, train_labels, test_images, test_labels, \n",
        "                    n_neirons=100, activation='relu', optimizer='adam', \n",
        "                    n_epochs=10, batch_size=55, verbose=0)\n",
        "evaluate"
      ],
      "metadata": {
        "colab": {
          "base_uri": "https://localhost:8080/"
        },
        "id": "S0ybmekL4O1c",
        "outputId": "978c49c9-0a57-4c0f-cf0e-94d33fbb5ba1"
      },
      "execution_count": 42,
      "outputs": [
        {
          "output_type": "execute_result",
          "data": {
            "text/plain": [
              "0.9722999930381775"
            ]
          },
          "metadata": {},
          "execution_count": 42
        }
      ]
    },
    {
      "cell_type": "code",
      "source": [
        "#запуск с оптимальными параметрами - активатор tanh\n",
        "\n",
        "model, evaluate = nn_minst(train_images, train_labels, test_images, test_labels, \n",
        "                    n_neirons=100, activation='tanh', optimizer='adam', \n",
        "                    n_epochs=10, batch_size=55, verbose=0)\n",
        "evaluate"
      ],
      "metadata": {
        "colab": {
          "base_uri": "https://localhost:8080/"
        },
        "id": "CzkaBZkA6Pch",
        "outputId": "2a1f273f-feb2-4a96-8ea6-7b776c82be8f"
      },
      "execution_count": 46,
      "outputs": [
        {
          "output_type": "execute_result",
          "data": {
            "text/plain": [
              "0.9732000231742859"
            ]
          },
          "metadata": {},
          "execution_count": 46
        }
      ]
    },
    {
      "cell_type": "code",
      "source": [
        "# Predict on the first 5 test images.\n",
        "predictions = model.predict(test_images[:5])\n",
        "# Print our model's predictions.\n",
        "print(np.argmax(predictions, axis=1)) # [7, 2, 1, 0, 4]"
      ],
      "metadata": {
        "colab": {
          "base_uri": "https://localhost:8080/"
        },
        "id": "vz6augVlzWrr",
        "outputId": "aee23989-003d-49d3-d64d-f7a47fd3607d"
      },
      "execution_count": 48,
      "outputs": [
        {
          "output_type": "stream",
          "name": "stdout",
          "text": [
            "1/1 [==============================] - 0s 40ms/step\n",
            "[7 2 1 0 4]\n"
          ]
        }
      ]
    },
    {
      "cell_type": "code",
      "source": [
        "# Check our predictions against the ground truths.\n",
        "print(test_labels[:5]) # [7, 2, 1, 0, 4]"
      ],
      "metadata": {
        "colab": {
          "base_uri": "https://localhost:8080/"
        },
        "id": "-zqenK1fpln7",
        "outputId": "ddd1d13f-1b13-4c47-b2a5-2d8fcba72b29"
      },
      "execution_count": 49,
      "outputs": [
        {
          "output_type": "stream",
          "name": "stdout",
          "text": [
            "[7 2 1 0 4]\n"
          ]
        }
      ]
    },
    {
      "cell_type": "code",
      "source": [
        "# Save the model to disk.\n",
        "# model.save_weights('model.h5')"
      ],
      "metadata": {
        "id": "-tUd2FNqpPrR"
      },
      "execution_count": 10,
      "outputs": []
    },
    {
      "cell_type": "code",
      "source": [
        "# Load the model from disk later using:\n",
        "# model.load_weights('model.h5')"
      ],
      "metadata": {
        "id": "DIrNpgnJpSlN"
      },
      "execution_count": 11,
      "outputs": []
    }
  ]
}